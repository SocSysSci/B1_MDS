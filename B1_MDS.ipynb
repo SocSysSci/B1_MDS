{
  "nbformat": 4,
  "nbformat_minor": 0,
  "metadata": {
    "kernelspec": {
      "display_name": "Python 3",
      "language": "python",
      "name": "python3"
    },
    "language_info": {
      "codemirror_mode": {
        "name": "ipython",
        "version": 3
      },
      "file_extension": ".py",
      "mimetype": "text/x-python",
      "name": "python",
      "nbconvert_exporter": "python",
      "pygments_lexer": "ipython3",
      "version": "3.7.1"
    },
    "colab": {
      "name": "02_MDS.ipynb",
      "provenance": [],
      "include_colab_link": true
    }
  },
  "cells": [
    {
      "cell_type": "markdown",
      "metadata": {
        "id": "view-in-github",
        "colab_type": "text"
      },
      "source": [
        "<a href=\"https://colab.research.google.com/github/SocSysSci/B1_MDS/blob/main/B1_MDS.ipynb\" target=\"_parent\"><img src=\"https://colab.research.google.com/assets/colab-badge.svg\" alt=\"Open In Colab\"/></a>"
      ]
    },
    {
      "cell_type": "code",
      "metadata": {
        "id": "m23rkmqEqrx5"
      },
      "source": [
        "import sklearn.manifold as skm\n",
        "import numpy as np\n",
        "import matplotlib.pyplot as plt"
      ],
      "execution_count": null,
      "outputs": []
    },
    {
      "cell_type": "markdown",
      "metadata": {
        "id": "84dPjGx-qrx9"
      },
      "source": [
        "## 1. JupyterでMDS"
      ]
    },
    {
      "cell_type": "code",
      "metadata": {
        "id": "K7yL91cJqrx-"
      },
      "source": [
        "labels = [\"Hyogo\", \"Wakayama\", \"Osaka\", \"Nara\", \"Shiga\", \"Kyoto\"]\n",
        "data = np.array([[  0, 134,  85, 116, 118,  60],\n",
        "                 [134,   0,  68,  66, 145, 141],\n",
        "                 [ 85,  68,   0,  32,  83,  75],\n",
        "                 [116,  66,  32,   0,  79,  95],\n",
        "                 [118, 145,  83,  79,   0,  63],\n",
        "                 [ 60, 141,  75,  95,  63,   0]])\n",
        "data.shape"
      ],
      "execution_count": null,
      "outputs": []
    },
    {
      "cell_type": "code",
      "metadata": {
        "id": "hzRx_m7ZqryA"
      },
      "source": [
        "mds = skm.MDS(n_components = 2, metric = True, dissimilarity = \"precomputed\", random_state=None)"
      ],
      "execution_count": null,
      "outputs": []
    },
    {
      "cell_type": "code",
      "metadata": {
        "id": "k8pRZxa3qryC"
      },
      "source": [
        "data_transformed = mds.fit_transform(data)\n",
        "data_transformed.shape"
      ],
      "execution_count": null,
      "outputs": []
    },
    {
      "cell_type": "code",
      "metadata": {
        "id": "cg5FwiI_qryE"
      },
      "source": [
        "plt.scatter(data_transformed[:,0], data_transformed[:,1])\n",
        "for d, l in zip(data_transformed, labels):\n",
        "    plt.text(d[0], d[1], l)"
      ],
      "execution_count": null,
      "outputs": []
    },
    {
      "cell_type": "markdown",
      "metadata": {
        "id": "dwdpYXStqryG"
      },
      "source": [
        "## 2. データを作ってMDSしてみる"
      ]
    },
    {
      "cell_type": "code",
      "metadata": {
        "id": "2O2H8QJhqryG"
      },
      "source": [
        "labels=[\"Rokko\", \"Ojikoen\", \"Rokko-michi\", \"Maya\", \"Oishi\", \"Shinzaike\", \"Ishiyagawa\"]\n",
        "data = np.array([[517, 1200, 1020, 1070, 1170, 1420, 2040],\n",
        "                  [981, 2140, 328, 1630, 1160, 340, 718],\n",
        "                  [1220, 614, 1300, 229, 635, 1390, 2240],\n",
        "                  [1110, 2600, 712, 2130, 1720, 900, 608],\n",
        "                  [1030, 1040, 1530, 1190, 1480, 1900, 2550]])\n",
        "data.shape"
      ],
      "execution_count": null,
      "outputs": []
    },
    {
      "cell_type": "code",
      "metadata": {
        "id": "I0QjWZ7EqryI"
      },
      "source": [
        "data = data.T\n",
        "data.shape"
      ],
      "execution_count": null,
      "outputs": []
    },
    {
      "cell_type": "code",
      "metadata": {
        "id": "bN6i25DHqryK"
      },
      "source": [
        "mds = skm.MDS(n_components = 2, metric = True, dissimilarity=\"euclidean\", random_state=None)"
      ],
      "execution_count": null,
      "outputs": []
    },
    {
      "cell_type": "code",
      "metadata": {
        "id": "I4PYXmmnqryL"
      },
      "source": [
        "data_transformed = mds.fit_transform(data)\n",
        "data_transformed.shape"
      ],
      "execution_count": null,
      "outputs": []
    },
    {
      "cell_type": "code",
      "metadata": {
        "id": "g0ml_8D8qryM"
      },
      "source": [
        "plt.scatter(data_transformed[:,0],data_transformed[:,1])\n",
        "for d, l in zip(data_transformed, labels):\n",
        "    plt.text(d[0], d[1], l)"
      ],
      "execution_count": null,
      "outputs": []
    },
    {
      "cell_type": "markdown",
      "metadata": {
        "id": "CzKtEUogqryO"
      },
      "source": [
        "## 3. CSVファイルからデータを読み込んでMDS"
      ]
    },
    {
      "cell_type": "code",
      "metadata": {
        "id": "hGBwZObPrCcM"
      },
      "source": [
        "from google.colab import files\n",
        "uploaded = files.upload()"
      ],
      "execution_count": null,
      "outputs": []
    },
    {
      "cell_type": "code",
      "metadata": {
        "id": "_l2L0e6VqryO"
      },
      "source": [
        "import pandas as pd"
      ],
      "execution_count": null,
      "outputs": []
    },
    {
      "cell_type": "code",
      "metadata": {
        "id": "HQ8NxDe4qryQ"
      },
      "source": [
        "seiseki = pd.read_csv(\"seiseki.csv\", index_col=0, header=0)\n",
        "seiseki.shape"
      ],
      "execution_count": null,
      "outputs": []
    },
    {
      "cell_type": "code",
      "metadata": {
        "id": "gvL8zDFQqryR"
      },
      "source": [
        "seiseki"
      ],
      "execution_count": null,
      "outputs": []
    },
    {
      "cell_type": "code",
      "metadata": {
        "id": "O769lCbdqryR"
      },
      "source": [
        "mds = skm.MDS(n_components = 2, metric = True, dissimilarity=\"euclidean\", random_state=None)"
      ],
      "execution_count": null,
      "outputs": []
    },
    {
      "cell_type": "code",
      "metadata": {
        "id": "kwqIWzOuqryS"
      },
      "source": [
        "data_transformed = mds.fit_transform(seiseki)\n",
        "data_transformed.shape"
      ],
      "execution_count": null,
      "outputs": []
    },
    {
      "cell_type": "code",
      "metadata": {
        "id": "foJSy0WxqryT"
      },
      "source": [
        "plt.scatter(data_transformed[:,0],data_transformed[:,1])\n",
        "for d, l in zip(data_transformed, seiseki.index.values):\n",
        "    plt.text(d[0], d[1], l)"
      ],
      "execution_count": null,
      "outputs": []
    }
  ]
}